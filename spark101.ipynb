{
 "cells": [
  {
   "cell_type": "markdown",
   "id": "fe3309e0",
   "metadata": {},
   "source": [
    "### 1. Create a spark data frame that contains your favorite programming languages.\n",
    "\n",
    "- The name of the column should be `language`\n",
    "- View the schema of the dataframe\n",
    "- Output the shape of the dataframe\n",
    "- Show the first 5 records in the dataframe"
   ]
  },
  {
   "cell_type": "code",
   "execution_count": 1,
   "id": "b1e4f66f",
   "metadata": {},
   "outputs": [],
   "source": [
    "# imports\n",
    "import pyspark\n",
    "import pandas as pd\n",
    "\n",
    "# create spark environment\n",
    "spark = pyspark.sql.SparkSession.builder.getOrCreate()"
   ]
  },
  {
   "cell_type": "code",
   "execution_count": 10,
   "id": "0ab359d1",
   "metadata": {},
   "outputs": [
    {
     "data": {
      "text/html": [
       "<div>\n",
       "<style scoped>\n",
       "    .dataframe tbody tr th:only-of-type {\n",
       "        vertical-align: middle;\n",
       "    }\n",
       "\n",
       "    .dataframe tbody tr th {\n",
       "        vertical-align: top;\n",
       "    }\n",
       "\n",
       "    .dataframe thead th {\n",
       "        text-align: right;\n",
       "    }\n",
       "</style>\n",
       "<table border=\"1\" class=\"dataframe\">\n",
       "  <thead>\n",
       "    <tr style=\"text-align: right;\">\n",
       "      <th></th>\n",
       "      <th>language</th>\n",
       "    </tr>\n",
       "  </thead>\n",
       "  <tbody>\n",
       "    <tr>\n",
       "      <th>0</th>\n",
       "      <td>python</td>\n",
       "    </tr>\n",
       "    <tr>\n",
       "      <th>1</th>\n",
       "      <td>sql</td>\n",
       "    </tr>\n",
       "    <tr>\n",
       "      <th>2</th>\n",
       "      <td>html</td>\n",
       "    </tr>\n",
       "    <tr>\n",
       "      <th>3</th>\n",
       "      <td>ruby</td>\n",
       "    </tr>\n",
       "    <tr>\n",
       "      <th>4</th>\n",
       "      <td>c</td>\n",
       "    </tr>\n",
       "    <tr>\n",
       "      <th>5</th>\n",
       "      <td>scala</td>\n",
       "    </tr>\n",
       "  </tbody>\n",
       "</table>\n",
       "</div>"
      ],
      "text/plain": [
       "  language\n",
       "0   python\n",
       "1      sql\n",
       "2     html\n",
       "3     ruby\n",
       "4        c\n",
       "5    scala"
      ]
     },
     "execution_count": 10,
     "metadata": {},
     "output_type": "execute_result"
    }
   ],
   "source": [
    "# create pandas dataframe\n",
    "p_df = pd.DataFrame({'language':['python', 'sql', 'html', 'ruby', 'c', 'scala']})\n",
    "p_df"
   ]
  },
  {
   "cell_type": "code",
   "execution_count": 11,
   "id": "7508b920",
   "metadata": {},
   "outputs": [],
   "source": [
    "# create spark dataframe\n",
    "df = spark.createDataFrame(p_df)"
   ]
  },
  {
   "cell_type": "code",
   "execution_count": 9,
   "id": "1d30358a",
   "metadata": {},
   "outputs": [
    {
     "name": "stdout",
     "output_type": "stream",
     "text": [
      "root\n",
      " |-- language: string (nullable = true)\n",
      "\n"
     ]
    }
   ],
   "source": [
    "# print schema\n",
    "df.printSchema()"
   ]
  },
  {
   "cell_type": "code",
   "execution_count": 14,
   "id": "c3de4ce2",
   "metadata": {},
   "outputs": [
    {
     "name": "stdout",
     "output_type": "stream",
     "text": [
      "DataFrame shape:  6  x  1\n"
     ]
    }
   ],
   "source": [
    "# output shape\n",
    "print(\"DataFrame shape: \", df.count(), \" x \", len(df.columns))"
   ]
  },
  {
   "cell_type": "code",
   "execution_count": 13,
   "id": "8967d544",
   "metadata": {},
   "outputs": [
    {
     "name": "stdout",
     "output_type": "stream",
     "text": [
      "+--------+\n",
      "|language|\n",
      "+--------+\n",
      "|  python|\n",
      "|     sql|\n",
      "|    html|\n",
      "|    ruby|\n",
      "|       c|\n",
      "+--------+\n",
      "only showing top 5 rows\n",
      "\n"
     ]
    }
   ],
   "source": [
    "# view first 5 records\n",
    "df.show(5)"
   ]
  },
  {
   "cell_type": "markdown",
   "id": "8a41f7eb",
   "metadata": {},
   "source": [
    "### 2. Load the `mpg` dataset as a spark dataframe.\n",
    "\n",
    "#### a. Create 1 column of output that contains a message like the one below for each record:\n",
    "\n",
    "    The 1999 audi a4 has a 4 cylinder engine.\n",
    "\n",
    "> Hint: You will need to concatenate values that already exist in the data with string literals"
   ]
  },
  {
   "cell_type": "code",
   "execution_count": 15,
   "id": "595eced7",
   "metadata": {},
   "outputs": [
    {
     "name": "stdout",
     "output_type": "stream",
     "text": [
      "+------------+-----+-----+----+---+----------+---+---+---+---+-------+\n",
      "|manufacturer|model|displ|year|cyl|     trans|drv|cty|hwy| fl|  class|\n",
      "+------------+-----+-----+----+---+----------+---+---+---+---+-------+\n",
      "|        audi|   a4|  1.8|1999|  4|  auto(l5)|  f| 18| 29|  p|compact|\n",
      "|        audi|   a4|  1.8|1999|  4|manual(m5)|  f| 21| 29|  p|compact|\n",
      "|        audi|   a4|  2.0|2008|  4|manual(m6)|  f| 20| 31|  p|compact|\n",
      "|        audi|   a4|  2.0|2008|  4|  auto(av)|  f| 21| 30|  p|compact|\n",
      "|        audi|   a4|  2.8|1999|  6|  auto(l5)|  f| 16| 26|  p|compact|\n",
      "+------------+-----+-----+----+---+----------+---+---+---+---+-------+\n",
      "only showing top 5 rows\n",
      "\n"
     ]
    }
   ],
   "source": [
    "# import\n",
    "from pydataset import data\n",
    "\n",
    "# create dataframe\n",
    "mpg = spark.createDataFrame(data(\"mpg\"))\n",
    "mpg.show(5)"
   ]
  },
  {
   "cell_type": "code",
   "execution_count": 54,
   "id": "f3130016",
   "metadata": {},
   "outputs": [
    {
     "name": "stdout",
     "output_type": "stream",
     "text": [
      "+-----------------------------------------+\n",
      "|message                                  |\n",
      "+-----------------------------------------+\n",
      "|The 1999 audi a4 has a 4 cylinder engine.|\n",
      "|The 1999 audi a4 has a 4 cylinder engine.|\n",
      "|The 2008 audi a4 has a 4 cylinder engine.|\n",
      "|The 2008 audi a4 has a 4 cylinder engine.|\n",
      "|The 1999 audi a4 has a 6 cylinder engine.|\n",
      "+-----------------------------------------+\n",
      "only showing top 5 rows\n",
      "\n"
     ]
    }
   ],
   "source": [
    "# imports\n",
    "from pyspark.sql.functions import lit\n",
    "from pyspark.sql.functions import concat\n",
    "\n",
    "# create string column\n",
    "mpg.select(concat(lit(\"The \"),\n",
    "                  mpg.year,\n",
    "                  lit(\" \"),\n",
    "                  mpg.manufacturer,\n",
    "                  lit(\" \"),\n",
    "                  mpg.model,\n",
    "                  lit(\" has a \"),\n",
    "                  mpg.cyl,\n",
    "                  lit(\" cylinder engine.\"))\n",
    "          .alias(\"message\")\n",
    "          ).show(5, truncate=False)"
   ]
  },
  {
   "cell_type": "markdown",
   "id": "dd66f616",
   "metadata": {},
   "source": [
    "#### b. Transform the trans column so that it only contains either manual or auto.\n",
    "\n",
    "> Hint: Consider spark string methods and `when().otherwise()` chaining"
   ]
  },
  {
   "cell_type": "code",
   "execution_count": 31,
   "id": "fc35866b",
   "metadata": {},
   "outputs": [
    {
     "name": "stdout",
     "output_type": "stream",
     "text": [
      "+------------+----------+-----+----+---+----------+---+---+---+---+-------+\n",
      "|manufacturer|     model|displ|year|cyl|     trans|drv|cty|hwy| fl|  class|\n",
      "+------------+----------+-----+----+---+----------+---+---+---+---+-------+\n",
      "|        audi|        a4|  1.8|1999|  4|  auto(l5)|  f| 18| 29|  p|compact|\n",
      "|        audi|        a4|  1.8|1999|  4|manual(m5)|  f| 21| 29|  p|compact|\n",
      "|        audi|        a4|  2.0|2008|  4|manual(m6)|  f| 20| 31|  p|compact|\n",
      "|        audi|        a4|  2.0|2008|  4|  auto(av)|  f| 21| 30|  p|compact|\n",
      "|        audi|        a4|  2.8|1999|  6|  auto(l5)|  f| 16| 26|  p|compact|\n",
      "|        audi|        a4|  2.8|1999|  6|manual(m5)|  f| 18| 26|  p|compact|\n",
      "|        audi|        a4|  3.1|2008|  6|  auto(av)|  f| 18| 27|  p|compact|\n",
      "|        audi|a4 quattro|  1.8|1999|  4|manual(m5)|  4| 18| 26|  p|compact|\n",
      "|        audi|a4 quattro|  1.8|1999|  4|  auto(l5)|  4| 16| 25|  p|compact|\n",
      "|        audi|a4 quattro|  2.0|2008|  4|manual(m6)|  4| 20| 28|  p|compact|\n",
      "+------------+----------+-----+----+---+----------+---+---+---+---+-------+\n",
      "only showing top 10 rows\n",
      "\n"
     ]
    }
   ],
   "source": [
    "# preview dataframe\n",
    "mpg.show(10)"
   ]
  },
  {
   "cell_type": "code",
   "execution_count": 86,
   "id": "a54576b7",
   "metadata": {},
   "outputs": [
    {
     "name": "stdout",
     "output_type": "stream",
     "text": [
      "+----------+----------+\n",
      "|     trans|trans_type|\n",
      "+----------+----------+\n",
      "|  auto(l5)|      auto|\n",
      "|manual(m5)|    manual|\n",
      "|manual(m6)|    manual|\n",
      "|  auto(av)|      auto|\n",
      "|  auto(l5)|      auto|\n",
      "|manual(m5)|    manual|\n",
      "|  auto(av)|      auto|\n",
      "|manual(m5)|    manual|\n",
      "|  auto(l5)|      auto|\n",
      "|manual(m6)|    manual|\n",
      "+----------+----------+\n",
      "only showing top 10 rows\n",
      "\n"
     ]
    }
   ],
   "source": [
    "# import\n",
    "from pyspark.sql.functions import when, regexp_extract, regexp_replace, col, round\n",
    "\n",
    "mpg.select(mpg.trans, \n",
    "           when(mpg.trans.like(\"a%\"), \"auto\")\n",
    "           .otherwise(\"manual\")\n",
    "           .alias(\"trans_type\")\n",
    "          ).show(10)"
   ]
  },
  {
   "cell_type": "markdown",
   "id": "2b195113",
   "metadata": {},
   "source": [
    "### 3. Load the `tips` dataset as a spark dataframe.\n",
    "\n",
    "#### a. What percentage of observations are smokers?\n",
    "> Hint: `.groupBy()` and `.withColumn()` are useful functions here"
   ]
  },
  {
   "cell_type": "code",
   "execution_count": 58,
   "id": "3e89f893",
   "metadata": {},
   "outputs": [
    {
     "name": "stdout",
     "output_type": "stream",
     "text": [
      "+----------+----+------+------+---+------+----+\n",
      "|total_bill| tip|   sex|smoker|day|  time|size|\n",
      "+----------+----+------+------+---+------+----+\n",
      "|     16.99|1.01|Female|    No|Sun|Dinner|   2|\n",
      "|     10.34|1.66|  Male|    No|Sun|Dinner|   3|\n",
      "|     21.01| 3.5|  Male|    No|Sun|Dinner|   3|\n",
      "|     23.68|3.31|  Male|    No|Sun|Dinner|   2|\n",
      "|     24.59|3.61|Female|    No|Sun|Dinner|   4|\n",
      "+----------+----+------+------+---+------+----+\n",
      "only showing top 5 rows\n",
      "\n"
     ]
    }
   ],
   "source": [
    "# get tips data\n",
    "tips = spark.createDataFrame(data(\"tips\"))\n",
    "tips.show(5)"
   ]
  },
  {
   "cell_type": "code",
   "execution_count": 88,
   "id": "1e91e236",
   "metadata": {},
   "outputs": [
    {
     "name": "stdout",
     "output_type": "stream",
     "text": [
      "+------+-----+----------+\n",
      "|smoker|count|percentage|\n",
      "+------+-----+----------+\n",
      "|    No|  151|      0.62|\n",
      "|   Yes|   93|      0.38|\n",
      "+------+-----+----------+\n",
      "\n"
     ]
    }
   ],
   "source": [
    "# show proportion of smokers vs non-smokers\n",
    "tips.groupBy(\"smoker\").count().withColumn(\"percentage\", \n",
    "                                         round(col(\"count\")/tips.count(), 2)).show()"
   ]
  },
  {
   "cell_type": "markdown",
   "id": "e5987ac4",
   "metadata": {},
   "source": [
    "#### b. Create a column that contains the tip percentage\n",
    "> Hint: `.withColumn()` is useful here"
   ]
  },
  {
   "cell_type": "code",
   "execution_count": 92,
   "id": "0bd527e3",
   "metadata": {},
   "outputs": [
    {
     "name": "stdout",
     "output_type": "stream",
     "text": [
      "+----------+----+------+------+---+------+----+--------------+\n",
      "|total_bill| tip|   sex|smoker|day|  time|size|tip_percentage|\n",
      "+----------+----+------+------+---+------+----+--------------+\n",
      "|     16.99|1.01|Female|    No|Sun|Dinner|   2|          0.06|\n",
      "|     10.34|1.66|  Male|    No|Sun|Dinner|   3|          0.16|\n",
      "|     21.01| 3.5|  Male|    No|Sun|Dinner|   3|          0.17|\n",
      "|     23.68|3.31|  Male|    No|Sun|Dinner|   2|          0.14|\n",
      "|     24.59|3.61|Female|    No|Sun|Dinner|   4|          0.15|\n",
      "+----------+----+------+------+---+------+----+--------------+\n",
      "only showing top 5 rows\n",
      "\n"
     ]
    }
   ],
   "source": [
    "# add tip percentage column\n",
    "tips.withColumn(\"tip_percentage\", round(tips.tip/tips.total_bill, 2)).show(5)"
   ]
  },
  {
   "cell_type": "markdown",
   "id": "a734ea85",
   "metadata": {},
   "source": [
    "#### c. Calculate the average tip percentage for each combination of sex and smoker.\n",
    "> Hint: Chain additional functions off the answer to part b "
   ]
  },
  {
   "cell_type": "code",
   "execution_count": 95,
   "id": "ef1e4866",
   "metadata": {},
   "outputs": [
    {
     "name": "stdout",
     "output_type": "stream",
     "text": [
      "+------+------+-------------------+\n",
      "|smoker|   sex|avg(tip_percentage)|\n",
      "+------+------+-------------------+\n",
      "|    No|Female| 0.1569209707691836|\n",
      "|    No|  Male| 0.1606687151291298|\n",
      "|   Yes|  Male|0.15277117520248512|\n",
      "|   Yes|Female|0.18215035269941032|\n",
      "+------+------+-------------------+\n",
      "\n"
     ]
    }
   ],
   "source": [
    "# import\n",
    "from pyspark.sql.functions import avg\n",
    "# get tip percentages\n",
    "tips.withColumn(\"tip_percentage\", tips.tip/tips.total_bill).groupBy(\"smoker\", \"sex\").agg(avg(\"tip_percentage\")).show()"
   ]
  },
  {
   "cell_type": "code",
   "execution_count": 94,
   "id": "ee6d3399",
   "metadata": {},
   "outputs": [
    {
     "name": "stdout",
     "output_type": "stream",
     "text": [
      "+------+-------------------+-------------------+\n",
      "|smoker|             Female|               Male|\n",
      "+------+-------------------+-------------------+\n",
      "|    No| 0.1569209707691836| 0.1606687151291298|\n",
      "|   Yes|0.18215035269941032|0.15277117520248512|\n",
      "+------+-------------------+-------------------+\n",
      "\n"
     ]
    }
   ],
   "source": [
    "# do the same using a pivot table\n",
    "tips.withColumn(\"tip_percentage\", tips.tip/tips.total_bill).groupBy(\"smoker\").pivot(\"sex\").agg(avg(\"tip_percentage\")).show()"
   ]
  },
  {
   "cell_type": "markdown",
   "id": "07506c54",
   "metadata": {},
   "source": [
    "### 4. Use the seattle weather dataset referenced in the lesson to answer the questions below.\n",
    "\n",
    "- Convert the temperatures to fahrenheit."
   ]
  },
  {
   "cell_type": "code",
   "execution_count": 111,
   "id": "59d39ae8",
   "metadata": {},
   "outputs": [
    {
     "name": "stdout",
     "output_type": "stream",
     "text": [
      "+-------------------+-------------+--------+--------+----+-------+\n",
      "|               date|precipitation|temp_max|temp_min|wind|weather|\n",
      "+-------------------+-------------+--------+--------+----+-------+\n",
      "|2012-01-01 00:00:00|          0.0|    12.8|     5.0| 4.7|drizzle|\n",
      "|2012-01-02 00:00:00|         10.9|    10.6|     2.8| 4.5|   rain|\n",
      "|2012-01-03 00:00:00|          0.8|    11.7|     7.2| 2.3|   rain|\n",
      "|2012-01-04 00:00:00|         20.3|    12.2|     5.6| 4.7|   rain|\n",
      "|2012-01-05 00:00:00|          1.3|     8.9|     2.8| 6.1|   rain|\n",
      "+-------------------+-------------+--------+--------+----+-------+\n",
      "only showing top 5 rows\n",
      "\n"
     ]
    }
   ],
   "source": [
    "# get seattle weather data\n",
    "from vega_datasets import data\n",
    "\n",
    "weather = data.seattle_weather()\n",
    "weather = spark.createDataFrame(weather)\n",
    "weather.show(5)"
   ]
  },
  {
   "cell_type": "code",
   "execution_count": 112,
   "id": "3814de05",
   "metadata": {},
   "outputs": [
    {
     "name": "stdout",
     "output_type": "stream",
     "text": [
      "+-------------------+-------------+--------+--------+----+-------+----------+----------+\n",
      "|               date|precipitation|temp_max|temp_min|wind|weather|temp_max_F|temp_min_F|\n",
      "+-------------------+-------------+--------+--------+----+-------+----------+----------+\n",
      "|2012-01-01 00:00:00|          0.0|    12.8|     5.0| 4.7|drizzle|      55.0|      41.0|\n",
      "|2012-01-02 00:00:00|         10.9|    10.6|     2.8| 4.5|   rain|      51.1|      37.0|\n",
      "|2012-01-03 00:00:00|          0.8|    11.7|     7.2| 2.3|   rain|      53.1|      45.0|\n",
      "|2012-01-04 00:00:00|         20.3|    12.2|     5.6| 4.7|   rain|      54.0|      42.1|\n",
      "|2012-01-05 00:00:00|          1.3|     8.9|     2.8| 6.1|   rain|      48.0|      37.0|\n",
      "+-------------------+-------------+--------+--------+----+-------+----------+----------+\n",
      "only showing top 5 rows\n",
      "\n"
     ]
    }
   ],
   "source": [
    "# degF = (degC * 1.8) + 32\n",
    "from pyspark.sql.functions import month, year, quarter, expr\n",
    "# convert temp to fahrenheit\n",
    "weather.withColumn(\"temp_max_F\", expr(\"ROUND((temp_max*1.8)+32, 1)\"))\\\n",
    "       .withColumn(\"temp_min_F\", expr(\"ROUND((temp_min*1.8)+32, 1)\"))\\\n",
    "       .show(5)"
   ]
  },
  {
   "cell_type": "markdown",
   "id": "aa5349f9",
   "metadata": {},
   "source": [
    "- Which month has the most rain, on average?"
   ]
  },
  {
   "cell_type": "code",
   "execution_count": 110,
   "id": "fc35bdae",
   "metadata": {},
   "outputs": [
    {
     "ename": "TypeError",
     "evalue": "unsupported operand type(s) for +: 'int' and 'str'",
     "output_type": "error",
     "traceback": [
      "\u001b[0;31m---------------------------------------------------------------------------\u001b[0m",
      "\u001b[0;31mTypeError\u001b[0m                                 Traceback (most recent call last)",
      "\u001b[0;32m<ipython-input-110-ff17694ddf10>\u001b[0m in \u001b[0;36m<module>\u001b[0;34m\u001b[0m\n\u001b[1;32m      2\u001b[0m     \u001b[0mweather\u001b[0m\u001b[0;34m.\u001b[0m\u001b[0mwithColumn\u001b[0m\u001b[0;34m(\u001b[0m\u001b[0;34m\"month\"\u001b[0m\u001b[0;34m,\u001b[0m \u001b[0mmonth\u001b[0m\u001b[0;34m(\u001b[0m\u001b[0;34m\"date\"\u001b[0m\u001b[0;34m)\u001b[0m\u001b[0;34m)\u001b[0m\u001b[0;34m\u001b[0m\u001b[0;34m\u001b[0m\u001b[0m\n\u001b[1;32m      3\u001b[0m     \u001b[0;34m.\u001b[0m\u001b[0mgroupBy\u001b[0m\u001b[0;34m(\u001b[0m\u001b[0;34m\"month\"\u001b[0m\u001b[0;34m)\u001b[0m\u001b[0;34m\u001b[0m\u001b[0;34m\u001b[0m\u001b[0m\n\u001b[0;32m----> 4\u001b[0;31m     \u001b[0;34m.\u001b[0m\u001b[0magg\u001b[0m\u001b[0;34m(\u001b[0m\u001b[0msum\u001b[0m\u001b[0;34m(\u001b[0m\u001b[0;34m\"precipitation\"\u001b[0m\u001b[0;34m)\u001b[0m\u001b[0;34m.\u001b[0m\u001b[0malias\u001b[0m\u001b[0;34m(\u001b[0m\u001b[0;34m\"total_rainfall\"\u001b[0m\u001b[0;34m)\u001b[0m\u001b[0;34m)\u001b[0m\u001b[0;34m\u001b[0m\u001b[0;34m\u001b[0m\u001b[0m\n\u001b[0m\u001b[1;32m      5\u001b[0m     \u001b[0;34m.\u001b[0m\u001b[0msort\u001b[0m\u001b[0;34m(\u001b[0m\u001b[0;34m\"month\"\u001b[0m\u001b[0;34m)\u001b[0m\u001b[0;34m\u001b[0m\u001b[0;34m\u001b[0m\u001b[0m\n\u001b[1;32m      6\u001b[0m     \u001b[0;34m.\u001b[0m\u001b[0mshow\u001b[0m\u001b[0;34m(\u001b[0m\u001b[0;34m)\u001b[0m\u001b[0;34m\u001b[0m\u001b[0;34m\u001b[0m\u001b[0m\n",
      "\u001b[0;31mTypeError\u001b[0m: unsupported operand type(s) for +: 'int' and 'str'"
     ]
    }
   ],
   "source": [
    "(\n",
    "    weather.withColumn(\"month\", month(\"date\"))\n",
    "    .groupBy(\"month\")\n",
    "    .agg(sum(\"precipitation\").alias(\"total_rainfall\"))\n",
    "    .sort(\"month\")\n",
    "    .show()\n",
    ")"
   ]
  },
  {
   "cell_type": "markdown",
   "id": "77be5dd8",
   "metadata": {},
   "source": [
    "- Which year was the windiest?"
   ]
  },
  {
   "cell_type": "code",
   "execution_count": null,
   "id": "e7b4444d",
   "metadata": {},
   "outputs": [],
   "source": []
  },
  {
   "cell_type": "markdown",
   "id": "2a14cab4",
   "metadata": {},
   "source": [
    "- What is the most frequent type of weather in January?"
   ]
  },
  {
   "cell_type": "code",
   "execution_count": null,
   "id": "c2c0417a",
   "metadata": {},
   "outputs": [],
   "source": []
  },
  {
   "cell_type": "markdown",
   "id": "f79d4ebc",
   "metadata": {},
   "source": [
    "- What is the average high and low temperature on sunny days in July in 2013 and 2014?"
   ]
  },
  {
   "cell_type": "code",
   "execution_count": null,
   "id": "ac08c11d",
   "metadata": {},
   "outputs": [],
   "source": []
  },
  {
   "cell_type": "markdown",
   "id": "e8933636",
   "metadata": {},
   "source": [
    "- What percentage of days were rainy in q3 of 2015?"
   ]
  },
  {
   "cell_type": "code",
   "execution_count": null,
   "id": "46a98f29",
   "metadata": {},
   "outputs": [],
   "source": []
  },
  {
   "cell_type": "markdown",
   "id": "26dce7b4",
   "metadata": {},
   "source": [
    "- For each year, find what percentage of days it rained (had non-zero precipitation)."
   ]
  },
  {
   "cell_type": "code",
   "execution_count": null,
   "id": "46a95ccc",
   "metadata": {},
   "outputs": [],
   "source": []
  }
 ],
 "metadata": {
  "kernelspec": {
   "display_name": "Python 3",
   "language": "python",
   "name": "python3"
  },
  "language_info": {
   "codemirror_mode": {
    "name": "ipython",
    "version": 3
   },
   "file_extension": ".py",
   "mimetype": "text/x-python",
   "name": "python",
   "nbconvert_exporter": "python",
   "pygments_lexer": "ipython3",
   "version": "3.8.8"
  }
 },
 "nbformat": 4,
 "nbformat_minor": 5
}
