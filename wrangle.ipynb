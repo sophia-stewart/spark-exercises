{
 "cells": [
  {
   "cell_type": "markdown",
   "id": "8af72446",
   "metadata": {},
   "source": [
    "# Data Wrangling Exercises\n",
    "---\n",
    "\n",
    "### 1. Read the case, department, and source data into their own spark dataframes."
   ]
  },
  {
   "cell_type": "code",
   "execution_count": 1,
   "id": "17fbdecf",
   "metadata": {},
   "outputs": [],
   "source": [
    "# import spark functions/environment\n",
    "from pyspark.sql import SparkSession\n",
    "from pyspark.sql.functions import *\n",
    "# create spark environment\n",
    "spark = SparkSession.builder.getOrCreate()"
   ]
  },
  {
   "cell_type": "code",
   "execution_count": 3,
   "id": "1f6e0833",
   "metadata": {},
   "outputs": [],
   "source": [
    "# read each csv into spark dataframe\n",
    "case = spark.read.csv('case.csv', header=True, inferSchema=True)\n",
    "dept = spark.read.csv('dept.csv', header=True, inferSchema=True)\n",
    "source = spark.read.csv('source.csv', header=True, inferSchema=True)"
   ]
  },
  {
   "cell_type": "markdown",
   "id": "28368260",
   "metadata": {},
   "source": [
    "### 2. Let's see how writing to the local disk works in spark:\n",
    "\n",
    "- Write the code necessary to store the source data in both csv and json format, store these as sources_csv and sources_json\n",
    "- Inspect your folder structure. What do you notice?"
   ]
  },
  {
   "cell_type": "code",
   "execution_count": 4,
   "id": "ad7945d5",
   "metadata": {},
   "outputs": [],
   "source": [
    "# save source data as json\n",
    "source.write.json(\"sources_json\")"
   ]
  },
  {
   "cell_type": "code",
   "execution_count": 5,
   "id": "ef995ca5",
   "metadata": {},
   "outputs": [],
   "source": [
    "# save source data as csv\n",
    "source.write.csv(\"sources_csv\")"
   ]
  },
  {
   "cell_type": "markdown",
   "id": "8b4cd7b9",
   "metadata": {},
   "source": [
    "Folders were created with the specified names and inside the folders is a file called SUCCESS and a json/csv fie of the data with a garbage-like name."
   ]
  },
  {
   "cell_type": "markdown",
   "id": "1a943fad",
   "metadata": {},
   "source": [
    "### 3. Inspect the data in your dataframes. Are the data types appropriate? Write the code necessary to cast the values to the appropriate types."
   ]
  },
  {
   "cell_type": "code",
   "execution_count": 9,
   "id": "06edf455",
   "metadata": {},
   "outputs": [
    {
     "data": {
      "text/plain": [
       "[('source_id', 'string'), ('source_username', 'string')]"
      ]
     },
     "execution_count": 9,
     "metadata": {},
     "output_type": "execute_result"
    }
   ],
   "source": [
    "# view dtypes\n",
    "source.dtypes"
   ]
  },
  {
   "cell_type": "code",
   "execution_count": 12,
   "id": "d94e81ce",
   "metadata": {},
   "outputs": [
    {
     "name": "stdout",
     "output_type": "stream",
     "text": [
      "+---------+----------------+\n",
      "|source_id| source_username|\n",
      "+---------+----------------+\n",
      "|   100137|Merlene Blodgett|\n",
      "|   103582|     Carmen Cura|\n",
      "|   106463| Richard Sanchez|\n",
      "+---------+----------------+\n",
      "only showing top 3 rows\n",
      "\n"
     ]
    }
   ],
   "source": [
    "# view top 3 rows\n",
    "source.show(3)"
   ]
  },
  {
   "cell_type": "code",
   "execution_count": 10,
   "id": "f51366fb",
   "metadata": {},
   "outputs": [
    {
     "data": {
      "text/plain": [
       "[('dept_division', 'string'),\n",
       " ('dept_name', 'string'),\n",
       " ('standardized_dept_name', 'string'),\n",
       " ('dept_subject_to_SLA', 'string')]"
      ]
     },
     "execution_count": 10,
     "metadata": {},
     "output_type": "execute_result"
    }
   ],
   "source": [
    "# view dtypes\n",
    "dept.dtypes"
   ]
  },
  {
   "cell_type": "code",
   "execution_count": 13,
   "id": "df3ea2be",
   "metadata": {},
   "outputs": [
    {
     "name": "stdout",
     "output_type": "stream",
     "text": [
      "+---------------+--------------------+----------------------+-------------------+\n",
      "|  dept_division|           dept_name|standardized_dept_name|dept_subject_to_SLA|\n",
      "+---------------+--------------------+----------------------+-------------------+\n",
      "|311 Call Center|    Customer Service|      Customer Service|                YES|\n",
      "|          Brush|Solid Waste Manag...|           Solid Waste|                YES|\n",
      "|Clean and Green|Parks and Recreation|    Parks & Recreation|                YES|\n",
      "+---------------+--------------------+----------------------+-------------------+\n",
      "only showing top 3 rows\n",
      "\n"
     ]
    }
   ],
   "source": [
    "# view top 3 rows\n",
    "dept.show(3)"
   ]
  },
  {
   "cell_type": "code",
   "execution_count": 11,
   "id": "6178ab2c",
   "metadata": {},
   "outputs": [
    {
     "data": {
      "text/plain": [
       "[('case_id', 'int'),\n",
       " ('case_opened_date', 'string'),\n",
       " ('case_closed_date', 'string'),\n",
       " ('SLA_due_date', 'string'),\n",
       " ('case_late', 'string'),\n",
       " ('num_days_late', 'double'),\n",
       " ('case_closed', 'string'),\n",
       " ('dept_division', 'string'),\n",
       " ('service_request_type', 'string'),\n",
       " ('SLA_days', 'double'),\n",
       " ('case_status', 'string'),\n",
       " ('source_id', 'string'),\n",
       " ('request_address', 'string'),\n",
       " ('council_district', 'int')]"
      ]
     },
     "execution_count": 11,
     "metadata": {},
     "output_type": "execute_result"
    }
   ],
   "source": [
    "# view dtypes\n",
    "case.dtypes"
   ]
  },
  {
   "cell_type": "code",
   "execution_count": 16,
   "id": "80c1bb82",
   "metadata": {},
   "outputs": [
    {
     "name": "stdout",
     "output_type": "stream",
     "text": [
      "-RECORD 0----------------------------------------------------\n",
      " case_id              | 1014127332                           \n",
      " case_opened_date     | 1/1/18 0:42                          \n",
      " case_closed_date     | 1/1/18 12:29                         \n",
      " SLA_due_date         | 9/26/20 0:42                         \n",
      " case_late            | NO                                   \n",
      " num_days_late        | -998.5087616000001                   \n",
      " case_closed          | YES                                  \n",
      " dept_division        | Field Operations                     \n",
      " service_request_type | Stray Animal                         \n",
      " SLA_days             | 999.0                                \n",
      " case_status          | Closed                               \n",
      " source_id            | svcCRMLS                             \n",
      " request_address      | 2315  EL PASO ST, San Antonio, 78207 \n",
      " council_district     | 5                                    \n",
      "only showing top 1 row\n",
      "\n"
     ]
    }
   ],
   "source": [
    "# view first record\n",
    "case.show(1, vertical=True, truncate=False)"
   ]
  },
  {
   "cell_type": "code",
   "execution_count": 17,
   "id": "5931264d",
   "metadata": {},
   "outputs": [],
   "source": [
    "# rename column\n",
    "case = case.withColumnRenamed('SLA_due_date', 'case_due_date')"
   ]
  },
  {
   "cell_type": "code",
   "execution_count": 21,
   "id": "d9ffe43e",
   "metadata": {},
   "outputs": [],
   "source": [
    "# convert datatypes to time\n",
    "case = (\n",
    "    case.withColumn('case_opened_date', to_timestamp(col('case_opened_date'), 'M/d/yy H:mm'))\n",
    "    .withColumn('case_closed_date', to_timestamp(col('case_closed_date'), 'M/d/yy H:mm'))\n",
    "    .withColumn('case_due_date', to_timestamp(col('case_due_date'), 'M/d/yy H:mm'))\n",
    ")\n",
    "# make boolean\n",
    "case = (\n",
    "    case.withColumn('case_late', col('case_late') == 'YES')\n",
    "    .withColumn('case_closed', col('case_closed') == 'YES')\n",
    ")"
   ]
  },
  {
   "cell_type": "markdown",
   "id": "7bd8106d",
   "metadata": {},
   "source": [
    "---\n",
    "### 1. How old is the latest (in terms of days past SLA) currently open issue? How long has the oldest (in terms of days since opened) currently opened issue been open?"
   ]
  },
  {
   "cell_type": "code",
   "execution_count": 23,
   "id": "6047f3e7",
   "metadata": {},
   "outputs": [
    {
     "name": "stdout",
     "output_type": "stream",
     "text": [
      "+-------------+\n",
      "|days_past_due|\n",
      "+-------------+\n",
      "|         1857|\n",
      "+-------------+\n",
      "\n"
     ]
    }
   ],
   "source": [
    "# prep for sql query\n",
    "case.createOrReplaceTempView('case')\n",
    "\n",
    "# write sql query\n",
    "# latest\n",
    "spark.sql('''\n",
    "SELECT DATEDIFF(current_timestamp, case_due_date) AS days_past_due\n",
    "FROM case\n",
    "WHERE NOT case_closed\n",
    "ORDER BY days_past_due DESC\n",
    "LIMIT 1\n",
    "''').show()"
   ]
  },
  {
   "cell_type": "code",
   "execution_count": 27,
   "id": "394d4955",
   "metadata": {},
   "outputs": [
    {
     "name": "stdout",
     "output_type": "stream",
     "text": [
      "+-----------------+\n",
      "|days_since_opened|\n",
      "+-----------------+\n",
      "|             1873|\n",
      "+-----------------+\n",
      "\n"
     ]
    }
   ],
   "source": [
    "# oldest\n",
    "spark.sql('''\n",
    "SELECT DATEDIFF(current_timestamp, case_opened_date) AS days_since_opened\n",
    "FROM case\n",
    "WHERE NOT case_closed\n",
    "ORDER BY days_since_opened DESC\n",
    "LIMIT 1\n",
    "''').show()"
   ]
  },
  {
   "cell_type": "markdown",
   "id": "e5843680",
   "metadata": {},
   "source": [
    "### 2. How many Stray Animal cases are there?"
   ]
  },
  {
   "cell_type": "code",
   "execution_count": 28,
   "id": "8cdad60f",
   "metadata": {},
   "outputs": [
    {
     "data": {
      "text/plain": [
       "26760"
      ]
     },
     "execution_count": 28,
     "metadata": {},
     "output_type": "execute_result"
    }
   ],
   "source": [
    "# count only stray animal cases\n",
    "case.filter(case.service_request_type == 'Stray Animal').count()"
   ]
  },
  {
   "cell_type": "markdown",
   "id": "616bdebb",
   "metadata": {},
   "source": [
    "### 3. How many service requests that are assigned to the Field Operations department (dept_division) are not classified as \"Officer Standby\" request type (service_request_type)?"
   ]
  },
  {
   "cell_type": "code",
   "execution_count": 39,
   "id": "a753157b",
   "metadata": {},
   "outputs": [
    {
     "data": {
      "text/plain": [
       "113902"
      ]
     },
     "execution_count": 39,
     "metadata": {},
     "output_type": "execute_result"
    }
   ],
   "source": [
    "# show only field operations division cases\n",
    "# exclude officer standby request types\n",
    "# show count\n",
    "case.filter(case.dept_division == 'Field Operations')\\\n",
    ".filter(case.service_request_type != 'Officer Standby')\\\n",
    ".count()"
   ]
  },
  {
   "cell_type": "markdown",
   "id": "e29b97dc",
   "metadata": {},
   "source": [
    "### 4. Convert the council_district column to a string column."
   ]
  },
  {
   "cell_type": "code",
   "execution_count": 31,
   "id": "29b12eb4",
   "metadata": {},
   "outputs": [],
   "source": [
    "# convert council_district to string\n",
    "case = case.withColumn('council_district', format_string('%04d', col('council_district')))"
   ]
  },
  {
   "cell_type": "markdown",
   "id": "8ff1db1b",
   "metadata": {},
   "source": [
    "### 5. Extract the year from the case_closed_date column."
   ]
  },
  {
   "cell_type": "code",
   "execution_count": 32,
   "id": "2b4844a4",
   "metadata": {},
   "outputs": [
    {
     "name": "stdout",
     "output_type": "stream",
     "text": [
      "+-------------------+----------------------+\n",
      "|   case_closed_date|year(case_closed_date)|\n",
      "+-------------------+----------------------+\n",
      "|2018-01-01 12:29:00|                  2018|\n",
      "|2018-01-03 08:11:00|                  2018|\n",
      "|2018-01-02 07:57:00|                  2018|\n",
      "+-------------------+----------------------+\n",
      "only showing top 3 rows\n",
      "\n"
     ]
    }
   ],
   "source": [
    "# get year from case_closed_date\n",
    "case.select('case_closed_date', year('case_closed_date')).show(3)"
   ]
  },
  {
   "cell_type": "markdown",
   "id": "7c7c1b5d",
   "metadata": {},
   "source": [
    "### 6. Convert num_days_late from days to hours in new columns num_hours_late."
   ]
  },
  {
   "cell_type": "code",
   "execution_count": 40,
   "id": "f4bd2372",
   "metadata": {},
   "outputs": [
    {
     "name": "stdout",
     "output_type": "stream",
     "text": [
      "+-------------------+-------------------+\n",
      "|      num_days_late|     num_hours_late|\n",
      "+-------------------+-------------------+\n",
      "| -998.5087616000001|     -23964.2102784|\n",
      "|-2.0126041669999997|-48.302500007999996|\n",
      "|       -3.022337963|      -72.536111112|\n",
      "|       -15.01148148|      -360.27555552|\n",
      "|0.37216435200000003|  8.931944448000001|\n",
      "+-------------------+-------------------+\n",
      "only showing top 5 rows\n",
      "\n"
     ]
    }
   ],
   "source": [
    "# create new column multiplying each day by 24 hours\n",
    "# select both columns\n",
    "# show first 5 rows\n",
    "case.withColumn('num_hours_late', case.num_days_late * 24)\\\n",
    ".select('num_days_late', 'num_hours_late')\\\n",
    ".show(5)"
   ]
  },
  {
   "cell_type": "markdown",
   "id": "608aef7c",
   "metadata": {},
   "source": [
    "### 7. Join the case data with the source and department data."
   ]
  },
  {
   "cell_type": "code",
   "execution_count": 42,
   "id": "571e0f84",
   "metadata": {},
   "outputs": [
    {
     "name": "stdout",
     "output_type": "stream",
     "text": [
      "-RECORD 0------------------------------------------------------\n",
      " source_id              | svcCRMLS                             \n",
      " dept_division          | Field Operations                     \n",
      " case_id                | 1014127332                           \n",
      " case_opened_date       | 2018-01-01 00:42:00                  \n",
      " case_closed_date       | 2018-01-01 12:29:00                  \n",
      " case_due_date          | 2020-09-26 00:42:00                  \n",
      " case_late              | false                                \n",
      " num_days_late          | -998.5087616000001                   \n",
      " case_closed            | true                                 \n",
      " service_request_type   | Stray Animal                         \n",
      " SLA_days               | 999.0                                \n",
      " case_status            | Closed                               \n",
      " request_address        | 2315  EL PASO ST, San Antonio, 78207 \n",
      " council_district       | 0005                                 \n",
      " dept_name              | Animal Care Services                 \n",
      " standardized_dept_name | Animal Care Services                 \n",
      " dept_subject_to_SLA    | YES                                  \n",
      " source_username        | svcCRMLS                             \n",
      "only showing top 1 row\n",
      "\n"
     ]
    }
   ],
   "source": [
    "# join dataframes\n",
    "df = case.join(dept, 'dept_division', 'left').join(source, 'source_id', 'left')\n",
    "df.show(1, vertical=True, truncate=False)"
   ]
  },
  {
   "cell_type": "markdown",
   "id": "d279fafe",
   "metadata": {},
   "source": [
    "### 8. Are there any cases that do not have a request source?"
   ]
  },
  {
   "cell_type": "code",
   "execution_count": 44,
   "id": "ab37f5e1",
   "metadata": {},
   "outputs": [
    {
     "name": "stdout",
     "output_type": "stream",
     "text": [
      "+------------+\n",
      "|sum(is_null)|\n",
      "+------------+\n",
      "|           0|\n",
      "+------------+\n",
      "\n"
     ]
    }
   ],
   "source": [
    "# select where source_id has no value\n",
    "# sum those values\n",
    "# show total records without request source\n",
    "df.select(df.source_id.isNull().cast('int').alias('is_null'))\\\n",
    ".agg(sum('is_null'))\\\n",
    ".show()"
   ]
  },
  {
   "cell_type": "markdown",
   "id": "4f3e60ee",
   "metadata": {},
   "source": [
    "### 9. What are the top 10 service request types in terms of number of requests?"
   ]
  },
  {
   "cell_type": "code",
   "execution_count": 46,
   "id": "672516cb",
   "metadata": {},
   "outputs": [
    {
     "name": "stdout",
     "output_type": "stream",
     "text": [
      "+--------------------------------+-----+\n",
      "|service_request_type            |count|\n",
      "+--------------------------------+-----+\n",
      "|No Pickup                       |89210|\n",
      "|Overgrown Yard/Trash            |66403|\n",
      "|Bandit Signs                    |32968|\n",
      "|Damaged Cart                    |31163|\n",
      "|Front Or Side Yard Parking      |28920|\n",
      "|Stray Animal                    |27361|\n",
      "|Aggressive Animal(Non-Critical) |25492|\n",
      "|Cart Exchange Request           |22608|\n",
      "|Junk Vehicle On Private Property|21649|\n",
      "|Pot Hole Repair                 |20827|\n",
      "+--------------------------------+-----+\n",
      "only showing top 10 rows\n",
      "\n"
     ]
    }
   ],
   "source": [
    "# group by service request type\n",
    "# get count for each type\n",
    "# sort descending\n",
    "# show top 10\n",
    "df.groupby('service_request_type')\\\n",
    ".count()\\\n",
    ".sort(col('count').desc())\\\n",
    ".show(10, truncate=False)"
   ]
  },
  {
   "cell_type": "markdown",
   "id": "3e086a19",
   "metadata": {},
   "source": [
    "### 10. What are the top 10 service request types in terms of average days late?"
   ]
  },
  {
   "cell_type": "code",
   "execution_count": 47,
   "id": "fb77d96c",
   "metadata": {},
   "outputs": [
    {
     "name": "stdout",
     "output_type": "stream",
     "text": [
      "+--------------------------------------+------------------+-------+\n",
      "|service_request_type                  |n_days_late       |n_cases|\n",
      "+--------------------------------------+------------------+-------+\n",
      "|Zoning: Recycle Yard                  |210.89201994318182|132    |\n",
      "|Zoning: Junk Yards                    |200.20517608494276|262    |\n",
      "|Structure/Housing Maintenance         |190.20707698509807|51     |\n",
      "|Donation Container Enforcement        |171.09115313942615|122    |\n",
      "|Storage of Used Mattress              |163.96812829714287|7      |\n",
      "|Labeling for Used Mattress            |162.43032902285717|7      |\n",
      "|Record Keeping of Used Mattresses     |153.99724039428568|7      |\n",
      "|Signage Requied for Sale of Used Mattr|151.63868055333333|12     |\n",
      "|Traffic Signal Graffiti               |137.64583330000002|4      |\n",
      "|License Requied Used Mattress Sales   |128.79828704142858|7      |\n",
      "+--------------------------------------+------------------+-------+\n",
      "only showing top 10 rows\n",
      "\n"
     ]
    }
   ],
   "source": [
    "# select only late cases\n",
    "# group by service request type\n",
    "# aggregate by avg days late and number of cases\n",
    "# sort descending\n",
    "# show top 10\n",
    "df.where('case_late')\\\n",
    ".groupBy('service_request_type')\\\n",
    ".agg(mean('num_days_late').alias('n_days_late'), count('*').alias('n_cases'))\\\n",
    ".sort(desc('n_days_late'))\\\n",
    ".show(10, truncate=False)"
   ]
  },
  {
   "cell_type": "markdown",
   "id": "01ebf87a",
   "metadata": {},
   "source": [
    "### 11. Does number of days late depend on department?"
   ]
  },
  {
   "cell_type": "code",
   "execution_count": 53,
   "id": "5239eaf4",
   "metadata": {},
   "outputs": [
    {
     "name": "stdout",
     "output_type": "stream",
     "text": [
      "+-------------------------+-------------+\n",
      "|dept_name                |avg_days_late|\n",
      "+-------------------------+-------------+\n",
      "|Metro Health             |6.49         |\n",
      "|Solid Waste Management   |7.15         |\n",
      "|Trans & Cap Improvements |10.66        |\n",
      "|Parks and Recreation     |22.43        |\n",
      "|Animal Care Services     |23.45        |\n",
      "|Code Enforcement Services|48.09        |\n",
      "|Development Services     |67.22        |\n",
      "|Customer Service         |88.18        |\n",
      "|null                     |210.89       |\n",
      "+-------------------------+-------------+\n",
      "\n"
     ]
    }
   ],
   "source": [
    "# show only late cases\n",
    "# group by department\n",
    "# aggregate by avg days late\n",
    "# sort by lateness\n",
    "# round for neatness\n",
    "df.filter('case_late')\\\n",
    ".groupby('dept_name')\\\n",
    ".agg(mean('num_days_late').alias('avg_days_late'))\\\n",
    ".sort('avg_days_late')\\\n",
    ".withColumn('avg_days_late', round(col('avg_days_late'), 2))\\\n",
    ".show(truncate=False)"
   ]
  },
  {
   "cell_type": "markdown",
   "id": "724af716",
   "metadata": {},
   "source": [
    "The average number of days a case is late does vary by department."
   ]
  },
  {
   "cell_type": "markdown",
   "id": "0b9a1c3d",
   "metadata": {},
   "source": [
    "### 12. How do number of days late depend on department and request type?"
   ]
  },
  {
   "cell_type": "code",
   "execution_count": 55,
   "id": "3402eb80",
   "metadata": {},
   "outputs": [
    {
     "name": "stdout",
     "output_type": "stream",
     "text": [
      "+-------------------------+--------------------------------------+---------+\n",
      "|dept_name                |service_request_type                  |days_late|\n",
      "+-------------------------+--------------------------------------+---------+\n",
      "|null                     |Zoning: Recycle Yard                  |210.89   |\n",
      "|Code Enforcement Services|Zoning: Junk Yards                    |200.21   |\n",
      "|Code Enforcement Services|Structure/Housing Maintenance         |190.21   |\n",
      "|Code Enforcement Services|Donation Container Enforcement        |171.09   |\n",
      "|Code Enforcement Services|Storage of Used Mattress              |163.97   |\n",
      "|Code Enforcement Services|Labeling for Used Mattress            |162.43   |\n",
      "|Code Enforcement Services|Record Keeping of Used Mattresses     |154.0    |\n",
      "|Code Enforcement Services|Signage Requied for Sale of Used Mattr|151.64   |\n",
      "|Trans & Cap Improvements |Traffic Signal Graffiti               |137.65   |\n",
      "|Code Enforcement Services|License Requied Used Mattress Sales   |128.8    |\n",
      "+-------------------------+--------------------------------------+---------+\n",
      "only showing top 10 rows\n",
      "\n"
     ]
    }
   ],
   "source": [
    "# show only late cases\n",
    "# group by dept name and request type\n",
    "# aggregate by avg lateness\n",
    "# round avg days late\n",
    "# sort descending by lateness\n",
    "# show top 10 records\n",
    "df.filter(\"case_late\")\\\n",
    ".groupby(\"dept_name\", \"service_request_type\")\\\n",
    ".agg(avg(\"num_days_late\").alias(\"days_late\"))\\\n",
    ".withColumn(\"days_late\", round(col(\"days_late\"), 2))\\\n",
    ".sort(desc(\"days_late\"))\\\n",
    ".show(10, truncate=False)"
   ]
  },
  {
   "cell_type": "code",
   "execution_count": null,
   "id": "a548c977",
   "metadata": {},
   "outputs": [],
   "source": []
  }
 ],
 "metadata": {
  "kernelspec": {
   "display_name": "Python 3",
   "language": "python",
   "name": "python3"
  },
  "language_info": {
   "codemirror_mode": {
    "name": "ipython",
    "version": 3
   },
   "file_extension": ".py",
   "mimetype": "text/x-python",
   "name": "python",
   "nbconvert_exporter": "python",
   "pygments_lexer": "ipython3",
   "version": "3.8.8"
  }
 },
 "nbformat": 4,
 "nbformat_minor": 5
}
